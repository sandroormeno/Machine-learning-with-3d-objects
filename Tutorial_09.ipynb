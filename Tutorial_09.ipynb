{
  "nbformat": 4,
  "nbformat_minor": 0,
  "metadata": {
    "colab": {
      "name": "Tutorial_09.ipynb",
      "provenance": [],
      "collapsed_sections": [],
      "include_colab_link": true
    },
    "kernelspec": {
      "name": "python3",
      "display_name": "Python 3"
    },
    "accelerator": "GPU"
  },
  "cells": [
    {
      "cell_type": "markdown",
      "metadata": {
        "id": "view-in-github",
        "colab_type": "text"
      },
      "source": [
        "<a href=\"https://colab.research.google.com/github/sandroormeno/Machine-learning-with-3d-objects/blob/master/Tutorial_09.ipynb\" target=\"_parent\"><img src=\"https://colab.research.google.com/assets/colab-badge.svg\" alt=\"Open In Colab\"/></a>"
      ]
    },
    {
      "cell_type": "code",
      "metadata": {
        "id": "5iAfEqxJ3eZb",
        "colab_type": "code",
        "outputId": "964f7739-3980-4bd3-9f4c-a29ced1c6736",
        "colab": {
          "base_uri": "https://localhost:8080/",
          "height": 122
        }
      },
      "source": [
        "from google.colab import drive\n",
        "drive.mount('/content/drive')"
      ],
      "execution_count": 1,
      "outputs": [
        {
          "output_type": "stream",
          "text": [
            "Go to this URL in a browser: https://accounts.google.com/o/oauth2/auth?client_id=947318989803-6bn6qk8qdgf4n4g3pfee6491hc0brc4i.apps.googleusercontent.com&redirect_uri=urn%3aietf%3awg%3aoauth%3a2.0%3aoob&response_type=code&scope=email%20https%3a%2f%2fwww.googleapis.com%2fauth%2fdocs.test%20https%3a%2f%2fwww.googleapis.com%2fauth%2fdrive%20https%3a%2f%2fwww.googleapis.com%2fauth%2fdrive.photos.readonly%20https%3a%2f%2fwww.googleapis.com%2fauth%2fpeopleapi.readonly\n",
            "\n",
            "Enter your authorization code:\n",
            "··········\n",
            "Mounted at /content/drive\n"
          ],
          "name": "stdout"
        }
      ]
    },
    {
      "cell_type": "code",
      "metadata": {
        "id": "BFu7jfnU34lx",
        "colab_type": "code",
        "outputId": "269e1e1b-4054-40fd-c55b-77b08a2dcb5b",
        "colab": {
          "base_uri": "https://localhost:8080/",
          "height": 34
        }
      },
      "source": [
        "%cd '/content/drive/My Drive/Colab Notebooks/Tutorial 3D Scatter Plots in Python'"
      ],
      "execution_count": 1,
      "outputs": [
        {
          "output_type": "stream",
          "text": [
            "/content/drive/My Drive/Colab Notebooks/Tutorial 3D Scatter Plots in Python\n"
          ],
          "name": "stdout"
        }
      ]
    },
    {
      "cell_type": "code",
      "metadata": {
        "id": "fqx9tITp4FzP",
        "colab_type": "code",
        "outputId": "eee617f5-beac-491a-d377-d1c996f9dfb6",
        "colab": {
          "base_uri": "https://localhost:8080/",
          "height": 85
        }
      },
      "source": [
        "ls"
      ],
      "execution_count": 2,
      "outputs": [
        {
          "output_type": "stream",
          "text": [
            " \u001b[0m\u001b[01;34m3D_shape_inpainting\u001b[0m/  'Tutorial 02.ipynb'  'Tutorial 06.ipynb'\n",
            " modelnet10.npz        'Tutorial 03.ipynb'  'Tutorial 07.ipynb'\n",
            " sphere.binvox         'Tutorial 04.ipynb'   Tutorial_08.ipynb\n",
            "'Tutorial 01.ipynb'    'Tutorial 05.ipynb'\n"
          ],
          "name": "stdout"
        }
      ]
    },
    {
      "cell_type": "code",
      "metadata": {
        "id": "ZGbZ_y5r4Imd",
        "colab_type": "code",
        "outputId": "032b95e3-f8cf-43eb-b9fa-3e10b30de5bc",
        "colab": {
          "base_uri": "https://localhost:8080/",
          "height": 34
        }
      },
      "source": [
        "!git clone https://github.com/Fdevmsy/3D_shape_inpainting.git"
      ],
      "execution_count": 4,
      "outputs": [
        {
          "output_type": "stream",
          "text": [
            "fatal: destination path '3D_shape_inpainting' already exists and is not an empty directory.\n"
          ],
          "name": "stdout"
        }
      ]
    },
    {
      "cell_type": "code",
      "metadata": {
        "id": "IZusFmKJ4OJl",
        "colab_type": "code",
        "outputId": "f86b97ca-1a19-4ea8-b862-a6b4dae80156",
        "colab": {
          "base_uri": "https://localhost:8080/",
          "height": 34
        }
      },
      "source": [
        "%cd \"/content/drive/My Drive/Colab Notebooks/Tutorial 3D Scatter Plots in Python/3D_shape_inpainting\""
      ],
      "execution_count": 3,
      "outputs": [
        {
          "output_type": "stream",
          "text": [
            "/content/drive/My Drive/Colab Notebooks/Tutorial 3D Scatter Plots in Python/3D_shape_inpainting\n"
          ],
          "name": "stdout"
        }
      ]
    },
    {
      "cell_type": "code",
      "metadata": {
        "id": "1B6gBVJQ4Tdt",
        "colab_type": "code",
        "outputId": "daddae70-b054-47c1-f6f9-a6de837c8d29",
        "colab": {
          "base_uri": "https://localhost:8080/",
          "height": 68
        }
      },
      "source": [
        "ls"
      ],
      "execution_count": 4,
      "outputs": [
        {
          "output_type": "stream",
          "text": [
            "\u001b[0m\u001b[01;34m32_cube\u001b[0m/                \u001b[01;34mimages_64cube\u001b[0m/    README.md  voxelFormat.pdf\n",
            "EncoderDecoderGAN3D.py  \u001b[01;34mimages_64x32x32\u001b[0m/  \u001b[01;34msan\u001b[0m/\n",
            "\u001b[01;34mimages__32cube\u001b[0m/         \u001b[01;34m__pycache__\u001b[0m/      utils.py\n"
          ],
          "name": "stdout"
        }
      ]
    },
    {
      "cell_type": "code",
      "metadata": {
        "id": "triMb2tJ4Wq3",
        "colab_type": "code",
        "colab": {}
      },
      "source": [
        "%tensorflow_version 1.x"
      ],
      "execution_count": 0,
      "outputs": []
    },
    {
      "cell_type": "code",
      "metadata": {
        "id": "jA01VRqw4ZIY",
        "colab_type": "code",
        "outputId": "d406a266-7817-4bac-bcf4-6a54abcf95ce",
        "colab": {
          "base_uri": "https://localhost:8080/",
          "height": 34
        }
      },
      "source": [
        "import tensorflow\n",
        "print(tensorflow.__version__)"
      ],
      "execution_count": 6,
      "outputs": [
        {
          "output_type": "stream",
          "text": [
            "1.15.0\n"
          ],
          "name": "stdout"
        }
      ]
    },
    {
      "cell_type": "code",
      "metadata": {
        "id": "jvRtwzPt4dFH",
        "colab_type": "code",
        "outputId": "0e5efc3f-d2ff-4c84-b763-58f9da53952c",
        "colab": {
          "base_uri": "https://localhost:8080/",
          "height": 34
        }
      },
      "source": [
        "from __future__ import print_function, division\n",
        "\n",
        "import os\n",
        "from mpl_toolkits.mplot3d import Axes3D  # you should keep the import\n",
        "import matplotlib.pyplot as plt\n",
        "\n",
        "import numpy as np\n",
        "from keras.layers import BatchNormalization, Activation\n",
        "from keras.layers import Input, Dense, Flatten, Dropout\n",
        "from keras.layers.advanced_activations import LeakyReLU\n",
        "from keras.layers.convolutional import UpSampling3D, Conv3D, Deconv3D\n",
        "from keras.models import Sequential, Model\n",
        "from keras.models import load_model\n",
        "from keras.optimizers import Adam\n",
        "from keras import backend as K \n",
        "from sklearn.metrics import hamming_loss\n",
        "from utils import mkdirs\n",
        "from san import binvox_rw\n",
        "from IPython.display import clear_output"
      ],
      "execution_count": 7,
      "outputs": [
        {
          "output_type": "stream",
          "text": [
            "Using TensorFlow backend.\n"
          ],
          "name": "stderr"
        }
      ]
    },
    {
      "cell_type": "code",
      "metadata": {
        "id": "Xc050uvd4fl8",
        "colab_type": "code",
        "colab": {}
      },
      "source": [
        "IMAGE_DIR = './32_cube/images'\n",
        "MODEL_DIR = './32_cube/saved_model'\n"
      ],
      "execution_count": 0,
      "outputs": []
    },
    {
      "cell_type": "code",
      "metadata": {
        "id": "cjLvF21KMQ6T",
        "colab_type": "code",
        "colab": {}
      },
      "source": [
        "mkdirs(IMAGE_DIR)\n",
        "mkdirs(MODEL_DIR)"
      ],
      "execution_count": 0,
      "outputs": []
    },
    {
      "cell_type": "code",
      "metadata": {
        "id": "tyBU24BW4ph7",
        "colab_type": "code",
        "colab": {}
      },
      "source": [
        "K.clear_session()\n",
        "\n",
        "class EncoderDecoderGAN():\n",
        "    def __init__(self):\n",
        "        self.vol_rows = 32\n",
        "        self.vol_cols = 32\n",
        "        self.vol_height = 32\n",
        "        self.mask_height = 16\n",
        "        self.mask_width = 16\n",
        "        self.mask_length = 16\n",
        "        self.channels = 1\n",
        "        self.num_classes = 2\n",
        "        self.vol_shape = (self.vol_rows, self.vol_cols, self.vol_height, self.channels)\n",
        "        self.missing_shape = (self.mask_height, self.mask_width, self.mask_length, self.channels)\n",
        "\n",
        "        optimizer = Adam(0.0002, 0.5)\n",
        "\n",
        "        try:\n",
        "            self.discriminator = load_model(os.path.join(MODEL_DIR, 'discriminator.h5'))\n",
        "            self.generator = load_model(os.path.join(MODEL_DIR, 'generator.h5'))\n",
        "\n",
        "            print(\"Loaded checkpoints\")\n",
        "        except:\n",
        "            self.generator = self.build_generator()\n",
        "            self.discriminator = self.build_discriminator()\n",
        "            print(\"No checkpoints found\")\n",
        "\n",
        "            # discriminator\n",
        "        self.discriminator.compile(loss='binary_crossentropy',\n",
        "                                   optimizer=optimizer,\n",
        "                                   metrics=['accuracy'])\n",
        "        # generator\n",
        "        # The generator takes noise as input and generates the missing part\n",
        "        masked_vol = Input(shape=self.vol_shape)\n",
        "        gen_missing = self.generator(masked_vol)\n",
        "\n",
        "        # For the combined model we will only train the generator\n",
        "        self.discriminator.trainable = False\n",
        "\n",
        "        # The discriminator takes generated voxels as input and determines\n",
        "        # if it is generated or if it is a real voxels\n",
        "        valid = self.discriminator(gen_missing)\n",
        "\n",
        "        # The combined model  (stacked generator and discriminator)\n",
        "        # Trains generator to fool discriminator\n",
        "        self.combined = Model(masked_vol, [gen_missing, valid])\n",
        "        self.combined.compile(loss=['mse', 'binary_crossentropy'],\n",
        "                              loss_weights=[0.999, 0.001],\n",
        "                              optimizer=optimizer)\n",
        "\n",
        "    def build_generator(self):\n",
        "\n",
        "        model = Sequential()\n",
        "\n",
        "        # Encoder\n",
        "        model.add(Conv3D(32, kernel_size=5, strides=2, input_shape=self.vol_shape, padding=\"same\"))\n",
        "        model.add(LeakyReLU(alpha=0.2))\n",
        "        model.add(BatchNormalization(momentum=0.8))\n",
        "        model.add(Conv3D(64, kernel_size=5, strides=2, padding=\"same\"))\n",
        "        model.add(LeakyReLU(alpha=0.2))\n",
        "        model.add(BatchNormalization(momentum=0.8))\n",
        "        model.add(Conv3D(128, kernel_size=5, strides=2, padding=\"same\"))\n",
        "        model.add(LeakyReLU(alpha=0.2))\n",
        "        model.add(BatchNormalization(momentum=0.8))\n",
        "        model.add(Conv3D(512, kernel_size=1, strides=2, padding=\"same\"))\n",
        "        model.add(LeakyReLU(alpha=0.2))\n",
        "        model.add(Dropout(0.5))\n",
        "\n",
        "        # Decoder\n",
        "        model.add(UpSampling3D())\n",
        "        model.add(Deconv3D(256, kernel_size=5, padding=\"same\"))\n",
        "        model.add(Activation('relu'))\n",
        "        model.add(BatchNormalization(momentum=0.8))\n",
        "        model.add(Deconv3D(128, kernel_size=5, padding=\"same\"))\n",
        "        model.add(Activation('relu'))\n",
        "        model.add(BatchNormalization(momentum=0.8))\n",
        "        model.add(UpSampling3D())\n",
        "        model.add(Deconv3D(64, kernel_size=5, padding=\"same\"))\n",
        "        model.add(Activation('relu'))\n",
        "        model.add(BatchNormalization(momentum=0.8))\n",
        "        model.add(UpSampling3D())\n",
        "        model.add(Deconv3D(self.channels, kernel_size=5, padding=\"same\"))\n",
        "        model.add(Activation('tanh'))\n",
        "        model.summary()\n",
        "\n",
        "        masked_vol = Input(shape=self.vol_shape)\n",
        "        gen_missing = model(masked_vol)\n",
        "\n",
        "        return Model(masked_vol, gen_missing)\n",
        "\n",
        "    def build_discriminator(self):\n",
        "\n",
        "        model = Sequential()\n",
        "\n",
        "        model.add(Conv3D(64, kernel_size=3, strides=2, input_shape=self.missing_shape, padding=\"same\"))\n",
        "        model.add(LeakyReLU(alpha=0.2))\n",
        "        model.add(BatchNormalization(momentum=0.8))\n",
        "        model.add(Conv3D(128, kernel_size=3, strides=2, padding=\"same\"))\n",
        "        model.add(LeakyReLU(alpha=0.2))\n",
        "        model.add(BatchNormalization(momentum=0.8))\n",
        "        model.add(Conv3D(256, kernel_size=3, padding=\"same\"))\n",
        "        model.add(LeakyReLU(alpha=0.2))\n",
        "        model.add(BatchNormalization(momentum=0.8))\n",
        "        model.add(Flatten())\n",
        "        model.add(Dense(1, activation='sigmoid'))\n",
        "        model.summary()\n",
        "\n",
        "        vol = Input(shape=self.missing_shape)\n",
        "        validity = model(vol)\n",
        "\n",
        "        return Model(vol, validity)\n",
        "\n",
        "    def generateWall(self):\n",
        "        x, y, z = np.indices((32, 32, 32))\n",
        "        voxel = (x < 28) & (x > 5) & (y > 5) & (y < 28) & (z > 10) & (z < 25)\n",
        "        # add channel\n",
        "        voxel = voxel[..., np.newaxis].astype(np.float)\n",
        "        # repeat 1000 times\n",
        "        voxels = list()\n",
        "        for i in range(1000):\n",
        "            voxels.append(voxel)\n",
        "        voxels = np.asarray(voxels)\n",
        "        return voxels\n",
        "    def generateSphere(self):\n",
        "        file = '/content/drive/My Drive/Colab Notebooks/Tutorial 3D Scatter Plots in Python/sphere.binvox'\n",
        "        with open(file, 'rb') as f:\n",
        "          tem = binvox_rw.read_as_3d_array(f).data\n",
        "        d = np.pad(tem, 2, 'constant')\n",
        "        voxel = d[..., np.newaxis].astype(np.float)\n",
        "        voxels = list()\n",
        "        for i in range(1000):\n",
        "            voxels.append(voxel)\n",
        "        voxels = np.asarray(voxels)   \n",
        "        return voxels\n",
        "\n",
        "\n",
        "    def mask_randomly(self, vols):\n",
        "        y1 = np.random.randint(0, self.vol_rows - self.mask_height, vols.shape[0])\n",
        "        y2 = y1 + self.mask_height\n",
        "        x1 = np.random.randint(0, self.vol_cols - self.mask_width, vols.shape[0])\n",
        "        x2 = x1 + self.mask_width\n",
        "        z1 = np.random.randint(0, self.vol_height - self.mask_length, vols.shape[0])\n",
        "        z2 = z1 + self.mask_length\n",
        "\n",
        "        masked_vols = np.empty_like(vols)\n",
        "        missing_parts = np.empty((vols.shape[0], self.mask_height, self.mask_width, self.mask_length, self.channels))\n",
        "        for i, vol in enumerate(vols):\n",
        "            masked_vol = vol.copy()\n",
        "            _y1, _y2, _x1, _x2, _z1, _z2 = y1[i], y2[i], x1[i], x2[i], z1[i], z2[i]\n",
        "            missing_parts[i] = masked_vol[_y1:_y2, _x1:_x2, _z1:_z2, :].copy()\n",
        "            masked_vol[_y1:_y2, _x1:_x2, _z1:_z2, :] = 0\n",
        "            masked_vols[i] = masked_vol\n",
        "\n",
        "        return masked_vols, missing_parts, (y1, y2, x1, x2, z1, z2)\n",
        "\n",
        "    def train(self, epochs, batch_size=16, sample_interval=50):\n",
        "\n",
        "        #X_train = self.generateWall()\n",
        "        X_train = self.generateSphere()\n",
        "        # Adversarial ground truths\n",
        "        valid = np.ones((batch_size, 1))\n",
        "        fake = np.zeros((batch_size, 1))\n",
        "\n",
        "        for epoch in range(epochs):\n",
        "\n",
        "            # Train Discriminator\n",
        "            idx = np.random.randint(0, X_train.shape[0], batch_size)\n",
        "            vols = X_train[idx]\n",
        "            masked_vols, missing_parts, _ = self.mask_randomly(vols)\n",
        "            # Generate a batch\n",
        "            gen_missing = self.generator.predict(masked_vols)\n",
        "            # print(gen_missing.shape)\n",
        "\n",
        "            d_loss_real = self.discriminator.train_on_batch(missing_parts, valid)\n",
        "            d_loss_fake = self.discriminator.train_on_batch(gen_missing, fake)\n",
        "            d_loss = 0.5 * np.add(d_loss_real, d_loss_fake)\n",
        "\n",
        "            # Train Generator\n",
        "            g_loss = self.combined.train_on_batch(masked_vols, [missing_parts, valid])\n",
        "            print(\"%d [D loss: %f, acc: %.2f%%] [G loss: %f, mse: %f]\" % (\n",
        "                epoch, d_loss[0], 100 * d_loss[1], g_loss[0], g_loss[1]))\n",
        "            \n",
        "            clear_output(wait=True)\n",
        "\n",
        "            # save generated samples\n",
        "            if epoch % sample_interval == 0:\n",
        "                idx = np.random.randint(0, X_train.shape[0], 2)\n",
        "                vols = X_train[idx]\n",
        "                self.sample_images(epoch, vols)\n",
        "                self.save_model()\n",
        "                \n",
        "\n",
        "    def sample_images(self, epoch, vols):\n",
        "        r, c = 2, 2\n",
        "\n",
        "        masked_vols, missing_parts, (y1, y2, x1, x2, z1, z2) = self.mask_randomly(vols)\n",
        "        gen_missing = self.generator.predict(masked_vols)\n",
        "        gen_missing = np.where(gen_missing > 0.5, 1, 0)\n",
        "        fig = plt.figure(figsize=plt.figaspect(0.5), dpi=75)\n",
        "\n",
        "        vols = 0.5 * vols + 0.5\n",
        "\n",
        "        for i in range(2):\n",
        "            masked_vol = masked_vols[i]\n",
        "            masked_vol = masked_vol[:, :, :, 0].astype(np.bool)\n",
        "            colors1 = np.empty(masked_vol.shape, dtype=object)\n",
        "            colors1[masked_vol] = 'teal'\n",
        "            ax = fig.add_subplot(1, 2, 1, projection='3d')\n",
        "            ax.voxels(masked_vol, facecolors=colors1, edgecolor='black', linewidth=0.2)\n",
        "            ax.set_title(\"Sphere damaged\")\n",
        "            plt.grid(False)\n",
        "            plt.axis('off')\n",
        "\n",
        "            filled_in = np.zeros_like(masked_vol)\n",
        "            # filled_in = vols[i].copy()\n",
        "            one_gen_missing = gen_missing[i]\n",
        "            one_gen_missing = one_gen_missing[:, :, :, 0].astype(np.bool)\n",
        "\n",
        "            # Compute hamming loss\n",
        "            true_missing_part = missing_parts[i]\n",
        "            true_missing_part = true_missing_part[:, :, :, 0].astype(np.bool)\n",
        "            ham_loss = hamming_loss(true_missing_part.ravel(), one_gen_missing.ravel())\n",
        "\n",
        "            filled_in[y1[i]:y2[i], x1[i]:x2[i], z1[i]:z2[i]] = one_gen_missing\n",
        "            fill = filled_in\n",
        "            combine_voxels = masked_vol | fill\n",
        "\n",
        "            # https://matplotlib.org/3.1.1/gallery/color/named_colors.html#sphx-glr-gallery-color-named-colors-py\n",
        "\n",
        "            colors2 = np.empty(combine_voxels.shape, dtype=object)\n",
        "            colors2[masked_vol] = 'teal'\n",
        "            colors2[fill] = 'olive'\n",
        "\n",
        "            ax = fig.add_subplot(1, 2, 2, projection='3d')\n",
        "            ax.voxels(combine_voxels, facecolors=colors2, edgecolor='black', linewidth=0.2)\n",
        "            # ax.voxels(masked_vol, facecolors=colors1, edgecolor='k')\n",
        "            # ax.set_title(\"Hamming Loss: %f\" % ham_loss)\n",
        "            ax.set_title(\"Sphere repaired\")\n",
        "            plt.grid(False)\n",
        "            plt.axis('off')\n",
        "            fig.savefig(os.path.join(IMAGE_DIR, \"%d_%d.png\" % (epoch, i)))\n",
        "            #print(\"saved sample images\")\n",
        "            #plt.close()\n",
        "            #plt.axis('off')\n",
        "            \n",
        "        plt.show()\n",
        "\n",
        "    def save_model(self):\n",
        "        def save(model, model_name):\n",
        "            model_path = os.path.join(MODEL_DIR, \"%s.h5\" % model_name)\n",
        "            model.save(model_path)\n",
        "\n",
        "        save(self.generator, \"generator\")\n",
        "        save(self.discriminator, \"discriminator\")"
      ],
      "execution_count": 0,
      "outputs": []
    },
    {
      "cell_type": "code",
      "metadata": {
        "id": "LcdzsZigXX9I",
        "colab_type": "code",
        "colab": {}
      },
      "source": [
        "context_encoder = EncoderDecoderGAN()"
      ],
      "execution_count": 0,
      "outputs": []
    },
    {
      "cell_type": "code",
      "metadata": {
        "id": "nFBr7HxY4sUN",
        "colab_type": "code",
        "outputId": "eb84d784-4599-49b7-dcbc-c9cff8932c8b",
        "colab": {
          "base_uri": "https://localhost:8080/",
          "height": 258
        }
      },
      "source": [
        "context_encoder.train(epochs=3001, batch_size=5, sample_interval=200)"
      ],
      "execution_count": 36,
      "outputs": [
        {
          "output_type": "display_data",
          "data": {
            "image/png": "[encoded data removed]",
            "text/plain": [
              "<Figure size 600x300 with 4 Axes>"
            ]
          },
          "metadata": {
            "tags": []
          }
        }
      ]
    },
    {
      "cell_type": "code",
      "metadata": {
        "id": "LHAWLdoOCJhS",
        "colab_type": "code",
        "colab": {}
      },
      "source": [
        "X = context_encoder.generateSphere()"
      ],
      "execution_count": 0,
      "outputs": []
    },
    {
      "cell_type": "code",
      "metadata": {
        "id": "la4DvghPCVXv",
        "colab_type": "code",
        "outputId": "adfe8620-52e8-40d4-98f7-00fcfbf89290",
        "colab": {
          "base_uri": "https://localhost:8080/",
          "height": 34
        }
      },
      "source": [
        "X.shape"
      ],
      "execution_count": 38,
      "outputs": [
        {
          "output_type": "execute_result",
          "data": {
            "text/plain": [
              "(1000, 32, 32, 32, 1)"
            ]
          },
          "metadata": {
            "tags": []
          },
          "execution_count": 38
        }
      ]
    },
    {
      "cell_type": "code",
      "metadata": {
        "id": "4uJqcN1jCsMg",
        "colab_type": "code",
        "colab": {}
      },
      "source": [
        "#context_encoder.sample_images(12,X[32])\n",
        "i = np.random.randint(0, X.shape[0], 5)\n",
        "vol = X[i]"
      ],
      "execution_count": 0,
      "outputs": []
    },
    {
      "cell_type": "code",
      "metadata": {
        "id": "_5oD1ZLUD7-3",
        "colab_type": "code",
        "outputId": "e7e9727b-67c9-4e57-f50c-531dd43814f9",
        "colab": {
          "base_uri": "https://localhost:8080/",
          "height": 258
        }
      },
      "source": [
        "context_encoder.sample_images(5,vol)"
      ],
      "execution_count": 53,
      "outputs": [
        {
          "output_type": "display_data",
          "data": {
            "image/png": "[encoded data removed]",
            "text/plain": [
              "<Figure size 600x300 with 4 Axes>"
            ]
          },
          "metadata": {
            "tags": []
          }
        }
      ]
    },
    {
      "cell_type": "code",
      "metadata": {
        "id": "OjD6gMgRYFBI",
        "colab_type": "code",
        "colab": {
          "base_uri": "https://localhost:8080/",
          "height": 1000
        },
        "outputId": "5b7af8cc-0857-47bf-be5f-ad48187b3d6b"
      },
      "source": [
        "context_encoder.build_generator()"
      ],
      "execution_count": 51,
      "outputs": [
        {
          "output_type": "stream",
          "text": [
            "Model: \"sequential_5\"\n",
            "_________________________________________________________________\n",
            "Layer (type)                 Output Shape              Param #   \n",
            "=================================================================\n",
            "conv3d_15 (Conv3D)           (None, 16, 16, 16, 32)    4032      \n",
            "_________________________________________________________________\n",
            "leaky_re_lu_15 (LeakyReLU)   (None, 16, 16, 16, 32)    0         \n",
            "_________________________________________________________________\n",
            "batch_normalization_19 (Batc (None, 16, 16, 16, 32)    128       \n",
            "_________________________________________________________________\n",
            "conv3d_16 (Conv3D)           (None, 8, 8, 8, 64)       256064    \n",
            "_________________________________________________________________\n",
            "leaky_re_lu_16 (LeakyReLU)   (None, 8, 8, 8, 64)       0         \n",
            "_________________________________________________________________\n",
            "batch_normalization_20 (Batc (None, 8, 8, 8, 64)       256       \n",
            "_________________________________________________________________\n",
            "conv3d_17 (Conv3D)           (None, 4, 4, 4, 128)      1024128   \n",
            "_________________________________________________________________\n",
            "leaky_re_lu_17 (LeakyReLU)   (None, 4, 4, 4, 128)      0         \n",
            "_________________________________________________________________\n",
            "batch_normalization_21 (Batc (None, 4, 4, 4, 128)      512       \n",
            "_________________________________________________________________\n",
            "conv3d_18 (Conv3D)           (None, 2, 2, 2, 512)      66048     \n",
            "_________________________________________________________________\n",
            "leaky_re_lu_18 (LeakyReLU)   (None, 2, 2, 2, 512)      0         \n",
            "_________________________________________________________________\n",
            "dropout_3 (Dropout)          (None, 2, 2, 2, 512)      0         \n",
            "_________________________________________________________________\n",
            "up_sampling3d_7 (UpSampling3 (None, 4, 4, 4, 512)      0         \n",
            "_________________________________________________________________\n",
            "conv3d_transpose_9 (Conv3DTr (None, 4, 4, 4, 256)      16384256  \n",
            "_________________________________________________________________\n",
            "activation_9 (Activation)    (None, 4, 4, 4, 256)      0         \n",
            "_________________________________________________________________\n",
            "batch_normalization_22 (Batc (None, 4, 4, 4, 256)      1024      \n",
            "_________________________________________________________________\n",
            "conv3d_transpose_10 (Conv3DT (None, 4, 4, 4, 128)      4096128   \n",
            "_________________________________________________________________\n",
            "activation_10 (Activation)   (None, 4, 4, 4, 128)      0         \n",
            "_________________________________________________________________\n",
            "batch_normalization_23 (Batc (None, 4, 4, 4, 128)      512       \n",
            "_________________________________________________________________\n",
            "up_sampling3d_8 (UpSampling3 (None, 8, 8, 8, 128)      0         \n",
            "_________________________________________________________________\n",
            "conv3d_transpose_11 (Conv3DT (None, 8, 8, 8, 64)       1024064   \n",
            "_________________________________________________________________\n",
            "activation_11 (Activation)   (None, 8, 8, 8, 64)       0         \n",
            "_________________________________________________________________\n",
            "batch_normalization_24 (Batc (None, 8, 8, 8, 64)       256       \n",
            "_________________________________________________________________\n",
            "up_sampling3d_9 (UpSampling3 (None, 16, 16, 16, 64)    0         \n",
            "_________________________________________________________________\n",
            "conv3d_transpose_12 (Conv3DT (None, 16, 16, 16, 1)     8001      \n",
            "_________________________________________________________________\n",
            "activation_12 (Activation)   (None, 16, 16, 16, 1)     0         \n",
            "=================================================================\n",
            "Total params: 22,865,409\n",
            "Trainable params: 22,864,065\n",
            "Non-trainable params: 1,344\n",
            "_________________________________________________________________\n"
          ],
          "name": "stdout"
        },
        {
          "output_type": "execute_result",
          "data": {
            "text/plain": [
              "<keras.engine.training.Model at 0x7f10ceaab6d8>"
            ]
          },
          "metadata": {
            "tags": []
          },
          "execution_count": 51
        }
      ]
    },
    {
      "cell_type": "code",
      "metadata": {
        "id": "ZrhpGRMqYLPI",
        "colab_type": "code",
        "colab": {
          "base_uri": "https://localhost:8080/",
          "height": 544
        },
        "outputId": "ccd35559-be32-4221-9bac-cca80d1523ec"
      },
      "source": [
        "context_encoder.build_discriminator()"
      ],
      "execution_count": 52,
      "outputs": [
        {
          "output_type": "stream",
          "text": [
            "Model: \"sequential_6\"\n",
            "_________________________________________________________________\n",
            "Layer (type)                 Output Shape              Param #   \n",
            "=================================================================\n",
            "conv3d_19 (Conv3D)           (None, 8, 8, 8, 64)       1792      \n",
            "_________________________________________________________________\n",
            "leaky_re_lu_19 (LeakyReLU)   (None, 8, 8, 8, 64)       0         \n",
            "_________________________________________________________________\n",
            "batch_normalization_25 (Batc (None, 8, 8, 8, 64)       256       \n",
            "_________________________________________________________________\n",
            "conv3d_20 (Conv3D)           (None, 4, 4, 4, 128)      221312    \n",
            "_________________________________________________________________\n",
            "leaky_re_lu_20 (LeakyReLU)   (None, 4, 4, 4, 128)      0         \n",
            "_________________________________________________________________\n",
            "batch_normalization_26 (Batc (None, 4, 4, 4, 128)      512       \n",
            "_________________________________________________________________\n",
            "conv3d_21 (Conv3D)           (None, 4, 4, 4, 256)      884992    \n",
            "_________________________________________________________________\n",
            "leaky_re_lu_21 (LeakyReLU)   (None, 4, 4, 4, 256)      0         \n",
            "_________________________________________________________________\n",
            "batch_normalization_27 (Batc (None, 4, 4, 4, 256)      1024      \n",
            "_________________________________________________________________\n",
            "flatten_3 (Flatten)          (None, 16384)             0         \n",
            "_________________________________________________________________\n",
            "dense_3 (Dense)              (None, 1)                 16385     \n",
            "=================================================================\n",
            "Total params: 1,126,273\n",
            "Trainable params: 1,125,377\n",
            "Non-trainable params: 896\n",
            "_________________________________________________________________\n"
          ],
          "name": "stdout"
        },
        {
          "output_type": "execute_result",
          "data": {
            "text/plain": [
              "<keras.engine.training.Model at 0x7f10d17cdf98>"
            ]
          },
          "metadata": {
            "tags": []
          },
          "execution_count": 52
        }
      ]
    }
  ]
}